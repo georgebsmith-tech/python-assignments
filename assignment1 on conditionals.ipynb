{
 "cells": [
  {
   "cell_type": "markdown",
   "metadata": {},
   "source": [
    "### Assignemt 4"
   ]
  },
  {
   "cell_type": "code",
   "execution_count": 1,
   "metadata": {},
   "outputs": [
    {
     "name": "stdout",
     "output_type": "stream",
     "text": [
      "Enter a number: 2\n",
      "Enter a number: 1\n",
      "Close\n"
     ]
    }
   ],
   "source": [
    "n1=float(input(\"Enter a number: \"))\n",
    "n2=float(input(\"Enter a number: \"))\n",
    "n3=0.001\n",
    "if n1-n2<=n3 or n2-n1<=n3:\n",
    "    print(\"Close\")\n",
    "else:\n",
    "    print(\"Not close\")\n"
   ]
  },
  {
   "cell_type": "code",
   "execution_count": 4,
   "metadata": {},
   "outputs": [
    {
     "name": "stdout",
     "output_type": "stream",
     "text": [
      "Enter a number: 2.4\n",
      "Enter a number: 2.40001\n",
      "Close\n"
     ]
    }
   ],
   "source": [
    "n1=float(input(\"Enter a number: \"))\n",
    "n2=float(input(\"Enter a number: \"))\n",
    "n3=0.001\n",
    "if n1>=n2 and n1-n2<=n3:\n",
    "    print(\"Close\")\n",
    "elif n2>=n1 and n2-n1<=n3:\n",
    "    print(\"Close\")\n",
    "else:\n",
    "    print(\"Not close\")\n"
   ]
  },
  {
   "cell_type": "code",
   "execution_count": 5,
   "metadata": {},
   "outputs": [
    {
     "data": {
      "text/plain": [
       "3"
      ]
     },
     "execution_count": 5,
     "metadata": {},
     "output_type": "execute_result"
    }
   ],
   "source": [
    "abs(-3)"
   ]
  },
  {
   "cell_type": "code",
   "execution_count": 6,
   "metadata": {},
   "outputs": [
    {
     "data": {
      "text/plain": [
       "20"
      ]
     },
     "execution_count": 6,
     "metadata": {},
     "output_type": "execute_result"
    }
   ],
   "source": [
    "abs(20)"
   ]
  },
  {
   "cell_type": "code",
   "execution_count": 7,
   "metadata": {},
   "outputs": [
    {
     "data": {
      "text/plain": [
       "0"
      ]
     },
     "execution_count": 7,
     "metadata": {},
     "output_type": "execute_result"
    }
   ],
   "source": [
    "abs(0)"
   ]
  },
  {
   "cell_type": "code",
   "execution_count": 11,
   "metadata": {},
   "outputs": [
    {
     "name": "stdout",
     "output_type": "stream",
     "text": [
      "Enter a number: 1.001\n",
      "Enter a number: 1.002\n",
      "Not close\n"
     ]
    }
   ],
   "source": [
    "n1=float(input(\"Enter a number: \"))\n",
    "n2=float(input(\"Enter a number: \"))\n",
    "n3=0.001\n",
    "if  round(abs(n1-n2),3)<=n3:\n",
    "    print(\"Close\")\n",
    "else:\n",
    "    print(\"Not close\")"
   ]
  },
  {
   "cell_type": "code",
   "execution_count": 12,
   "metadata": {},
   "outputs": [
    {
     "data": {
      "text/plain": [
       "-0.001000000000000112"
      ]
     },
     "execution_count": 12,
     "metadata": {},
     "output_type": "execute_result"
    }
   ],
   "source": [
    "1.001-1.002"
   ]
  },
  {
   "cell_type": "code",
   "execution_count": null,
   "metadata": {},
   "outputs": [],
   "source": []
  }
 ],
 "metadata": {
  "kernelspec": {
   "display_name": "Python 3",
   "language": "python",
   "name": "python3"
  },
  "language_info": {
   "codemirror_mode": {
    "name": "ipython",
    "version": 3
   },
   "file_extension": ".py",
   "mimetype": "text/x-python",
   "name": "python",
   "nbconvert_exporter": "python",
   "pygments_lexer": "ipython3",
   "version": "3.7.3"
  }
 },
 "nbformat": 4,
 "nbformat_minor": 2
}
